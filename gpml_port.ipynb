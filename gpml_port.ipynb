{
 "cells": [
  {
   "cell_type": "code",
   "execution_count": 29,
   "metadata": {
    "ExecuteTime": {
     "end_time": "2017-06-12T15:16:12.633470",
     "start_time": "2017-06-12T15:16:12.622432"
    },
    "collapsed": true
   },
   "outputs": [],
   "source": [
    "import sys\n",
    "sys.path.insert(0, \"/home/bill/pymc3/\")\n",
    "\n",
    "import matplotlib.pyplot as plt\n",
    "%matplotlib inline\n",
    "\n",
    "import pymc3 as pm\n",
    "import numpy as np\n",
    "import scipy as sp\n",
    "import scipy.stats\n",
    "import scipy.linalg\n",
    "\n",
    "import theano\n",
    "import theano.tensor as tt\n",
    "\n",
    "from oct2py import octave"
   ]
  },
  {
   "cell_type": "markdown",
   "metadata": {},
   "source": [
    "# sketch of gpml implementation of exact gp inference"
   ]
  },
  {
   "cell_type": "code",
   "execution_count": 30,
   "metadata": {
    "ExecuteTime": {
     "end_time": "2017-06-12T15:16:15.788743",
     "start_time": "2017-06-12T15:16:13.455238"
    }
   },
   "outputs": [
    {
     "name": "stdout",
     "output_type": "stream",
     "text": [
      "2.04223693313\n",
      "-310.756059933\n",
      "-152.164548046\n"
     ]
    },
    {
     "name": "stderr",
     "output_type": "stream",
     "text": [
      "/home/bill/anaconda3/lib/python3.5/site-packages/ipykernel/__main__.py:6: RuntimeWarning: covariance is not positive-semidefinite.\n"
     ]
    }
   ],
   "source": [
    "## transcoding gpml exact\n",
    "\n",
    "x = np.linspace(0,1,50)[:,None]\n",
    "l = 0.2\n",
    "Kmat = theano.function([], pm.gp.cov.ExpQuad(1, l)(x))()\n",
    "y = np.random.multivariate_normal(np.zeros(50), Kmat, 1).flatten()\n",
    "sn2 = 0.1  # sn2 = exp( 2 * hyp.lik)\n",
    "\n",
    "\"\"\" function [post, nlZ, dnLZ] = infGaussLik(hyp, mean, cov, lik, x, y, opt)\n",
    "\"\"\"\n",
    "\n",
    "n, D = x.shape\n",
    "\n",
    "### evaluate mean vector and derivatives\n",
    "# m, dm = mean(x)\n",
    "m = np.zeros(n)\n",
    "W = np.ones(n) / sn2\n",
    "\n",
    "## call to apx:  \n",
    "\"\"\" K = apx(hyp, cov, x, opt)\n",
    "\"\"\"\n",
    "\n",
    "class Kclass(object):\n",
    "    def __init__(self, K):\n",
    "        self.K = K\n",
    "        self.dK = None\n",
    "    def mvm(self, x):\n",
    "        return np.dot(self.K, x)\n",
    "    def fun(self,W):\n",
    "        return ldB2_exact(W, self.K, self.dK)\n",
    "    def P(self, x):\n",
    "        return x\n",
    "    def Pt(self, x):\n",
    "        return x\n",
    "\n",
    "def ldB2_exact(W, K, dK):\n",
    "    n = W.size\n",
    "    sW = np.sqrt(W)\n",
    "    # np.outer(sW, sW) creates a n x n constant matrix of what the entries in W are\n",
    "    L = sp.linalg.cholesky(np.eye(n) + np.outer(sW, sW) * K, lower=False) # cholesky factor of \"B\"\n",
    "    ldB2 = np.sum(np.log(np.diag(L)))                         # logdet(B)/2\n",
    "    \n",
    "    # check the bsxfun calls that are in solveKiW\n",
    "    # solveKiW = @(r) bsxfun(@times,solve_chol(L,bsxfun(@times,r,sW)),sW);\n",
    "    def solveKiW(r): # r = y - m\n",
    "        return solve_chol(L, r * sW) * sW  # is r a vector or matrix?\n",
    "    \n",
    "    dW = None\n",
    "    dldB2 = None\n",
    "    return ldB2, solveKiW, dW, dldB2, L\n",
    "         \n",
    "def solve_chol(L, x):\n",
    "    return np.linalg.solve(L, np.linalg.solve(L.T, x))\n",
    "            \n",
    "# back in infGaussLik here\n",
    "K = Kclass(Kmat)\n",
    "ldB2, solveKiW, dW, dhyp, postL = K.fun(W)\n",
    "alpha = solveKiW(y - m)\n",
    "postalpha = K.P(alpha) # does nothing here\n",
    "postsW = np.sqrt(W)\n",
    "nlZ = np.dot((y - m).T , alpha/2) + ldB2 + n * np.log(2 * np.pi * sn2) / 2.0 \n",
    "print(nlZ)\n",
    "\n",
    "\n",
    "\n",
    "\n",
    "\n",
    "\n",
    "\"\"\" Normal, non matlabby version\n",
    "\"\"\"\n",
    "nlZ2 = -sp.stats.multivariate_normal.logpdf(y, mean=m, cov=Kmat + 1e-8*np.eye(50))\n",
    "print(nlZ2)\n",
    "print(nlZ2 / nlZ)"
   ]
  },
  {
   "cell_type": "markdown",
   "metadata": {},
   "source": [
    "# Direct implementation of gpml exact inference\n",
    "## Python"
   ]
  },
  {
   "cell_type": "code",
   "execution_count": 31,
   "metadata": {
    "ExecuteTime": {
     "end_time": "2017-06-12T15:16:15.882333",
     "start_time": "2017-06-12T15:16:15.792849"
    }
   },
   "outputs": [
    {
     "name": "stdout",
     "output_type": "stream",
     "text": [
      "(50,)\n",
      "6.51686176821\n",
      "6.51686176821\n"
     ]
    },
    {
     "name": "stderr",
     "output_type": "stream",
     "text": [
      "/home/bill/anaconda3/lib/python3.5/site-packages/ipykernel/__main__.py:4: RuntimeWarning: covariance is not positive-semidefinite.\n"
     ]
    }
   ],
   "source": [
    "x = np.linspace(0,1,50)[:,None]\n",
    "l = 0.2\n",
    "Kmat = theano.function([], pm.gp.cov.ExpQuad(1, l)(x))()\n",
    "y = np.random.multivariate_normal(np.zeros(50), Kmat, 1).flatten()\n",
    "\n",
    "n, D = x.shape\n",
    "m = np.zeros(n)\n",
    "W = np.ones(n) / sn2\n",
    "\n",
    "sW = np.sqrt(W)\n",
    "L = sp.linalg.cholesky(np.eye(n) + np.outer(sW, sW) * Kmat, lower=False)\n",
    "ldB2 = np.sum(np.log(np.diag(L)))\n",
    "\n",
    "r = y - m\n",
    "alpha = solve_chol(L, r * sW) * sW\n",
    "print(alpha.shape)\n",
    "nlZ = np.dot(y - m , alpha/2) + ldB2 + n * np.log(2 * np.pi * sn2) / 2.0 \n",
    "print(nlZ)\n",
    "\n",
    "nlZ2 = -sp.stats.multivariate_normal.logpdf(y, mean=m, cov=Kmat + sn2*np.eye(50))\n",
    "print(nlZ2)"
   ]
  },
  {
   "cell_type": "markdown",
   "metadata": {},
   "source": [
    "## Octave"
   ]
  },
  {
   "cell_type": "code",
   "execution_count": 32,
   "metadata": {
    "ExecuteTime": {
     "end_time": "2017-06-12T15:16:16.084215",
     "start_time": "2017-06-12T15:16:15.885081"
    }
   },
   "outputs": [
    {
     "name": "stdout",
     "output_type": "stream",
     "text": [
      " 6.5169\n"
     ]
    }
   ],
   "source": [
    "octave.push(\"Kmat\", Kmat)\n",
    "octave.push(\"y\", y)\n",
    "octave.push(\"x\", x)\n",
    "octave.push(\"l\", l)\n",
    "octave.push(\"sn2\", sn2)\n",
    "\n",
    "octave.eval(\"\"\"\n",
    "\n",
    "function x = solve_chol(A, B)\n",
    "  if nargin ~= 2 | nargout > 1\n",
    "    error('Wrong number of arguments.');\n",
    "  end\n",
    "\n",
    "  if size(A,1) ~= size(A,2) | size(A,1) ~= size(B,1)\n",
    "    error('Wrong sizes of matrix arguments.');\n",
    "  end\n",
    "\n",
    "  x = A\\(A'\\B);\n",
    "end\n",
    "\n",
    "\n",
    "function [ldB2,solveKiW,dW,dldB2,L] = ldB2_exact(W,K,dK)\n",
    "  isWneg = any(W<0); n = numel(W);\n",
    "  if isWneg                  % switch between Cholesky and LU decomposition mode\n",
    "    A = eye(n) + bsxfun(@times,K,W');                     % asymmetric A = I+K*W\n",
    "    [L,U,P] = lu(A); u = diag(U);         % compute LU decomposition, A = P'*L*U\n",
    "    signU = prod(sign(u));                                           % sign of U\n",
    "    detP = 1;               % compute sign (and det) of the permutation matrix P\n",
    "    p = P*(1:n)';\n",
    "    for i=1:n                                                     % swap entries\n",
    "      if i~=p(i), detP = -detP; j = find(p==i); p([i,j]) = p([j,i]); end\n",
    "    end\n",
    "    if signU~=detP     % log becomes complex for negative values, encoded by inf\n",
    "      ldB2 = Inf;\n",
    "    else          % det(L) = 1 and U triangular => det(A) = det(P)*prod(diag(U))\n",
    "      ldB2 = sum(log(abs(u)))/2;\n",
    "    end                                            % compute inverse if required\n",
    "    if nargout>1, Q = U\\(L\\P); solveKiW = @(r) bsxfun(@times,W,Q*r); end\n",
    "    if nargout>4, L = -diag(W)*Q; end                              % overwrite L\n",
    "  else                                                 % symmetric B = I+sW*K*sW\n",
    "    sW = sqrt(W); L = chol(eye(n)+sW*sW'.*K);             % Cholesky factor of B\n",
    "    ldB2 = sum(log(diag(L)));                                    % log(det(B))/2\n",
    "    solveKiW = @(r) bsxfun(@times,solve_chol(L,bsxfun(@times,r,sW)),sW);\n",
    "    if nargout>2, Q = bsxfun(@times,1./sW,solve_chol(L,diag(sW))); end\n",
    "  end\n",
    "  if nargout>2\n",
    "    dW = sum(Q.*K,2)/2;            % d log(det(B))/2 / d W = diag(inv(inv(K)+W))\n",
    "    dldB2 = @(varargin) ldB2_deriv_exact(W,dK,Q, varargin{:});     % derivatives\n",
    "  end\n",
    "end\n",
    "\n",
    "\n",
    "y = y';\n",
    "[n, D] = size(x);\n",
    "W = ones(n, 1)/sn2;\n",
    "m = zeros(n, D);\n",
    "\n",
    "dK = 1;\n",
    "K = struct('mvm',@(x)Kmat*x, 'fun',@(W)ldB2_exact(W,Kmat,dK), ...  % mvm and fun\n",
    "           'P',@(x)x, 'Pt',@(x)x);\n",
    "\n",
    "[ldB2,solveKiW,dW,dhyp,post.L] = K.fun(W); % obtain functionality depending on W\n",
    "\n",
    "alpha = solveKiW(y-m);\n",
    "nlZ = (y-m)'*alpha/2 + ldB2 + n*log(2*pi*sn2)/2;\n",
    "\n",
    "disp(nlZ)\n",
    "\n",
    "\"\"\")"
   ]
  },
  {
   "cell_type": "code",
   "execution_count": 33,
   "metadata": {
    "ExecuteTime": {
     "end_time": "2017-06-12T15:16:16.420597",
     "start_time": "2017-06-12T15:16:16.085911"
    }
   },
   "outputs": [
    {
     "data": {
      "image/png": "[encoded data removed]",
      "text/plain": [
       "<matplotlib.figure.Figure at 0x7efcbbfdcd30>"
      ]
     },
     "metadata": {},
     "output_type": "display_data"
    }
   ],
   "source": [
    "sW = np.sqrt(W)\n",
    "L1 = np.linalg.cholesky(np.eye(Kmat.shape[0]) + np.outer(sW, sW) * Kmat)\n",
    "m=plt.imshow(L1);\n",
    "plt.colorbar(m);"
   ]
  },
  {
   "cell_type": "code",
   "execution_count": 34,
   "metadata": {
    "ExecuteTime": {
     "end_time": "2017-06-12T15:16:16.769729",
     "start_time": "2017-06-12T15:16:16.423389"
    }
   },
   "outputs": [
    {
     "data": {
      "text/plain": [
       "<matplotlib.colorbar.Colorbar at 0x7efcb94f5e10>"
      ]
     },
     "execution_count": 34,
     "metadata": {},
     "output_type": "execute_result"
    },
    {
     "data": {
      "image/png": "[encoded data removed]",
      "text/plain": [
       "<matplotlib.figure.Figure at 0x7efcbbfdc550>"
      ]
     },
     "metadata": {},
     "output_type": "display_data"
    }
   ],
   "source": [
    "B = np.eye(Kmat.shape[0]) + np.outer(sW, sW) * Kmat\n",
    "m = plt.imshow(B)\n",
    "plt.colorbar(m)"
   ]
  },
  {
   "cell_type": "code",
   "execution_count": 35,
   "metadata": {
    "ExecuteTime": {
     "end_time": "2017-06-12T15:16:17.061474",
     "start_time": "2017-06-12T15:16:16.786734"
    }
   },
   "outputs": [
    {
     "data": {
      "text/plain": [
       "<matplotlib.colorbar.Colorbar at 0x7efcb9435cf8>"
      ]
     },
     "execution_count": 35,
     "metadata": {},
     "output_type": "execute_result"
    },
    {
     "data": {
      "image/png": "[encoded data removed]",
      "text/plain": [
       "<matplotlib.figure.Figure at 0x7efcb9555080>"
      ]
     },
     "metadata": {},
     "output_type": "display_data"
    }
   ],
   "source": [
    "m = plt.imshow(Kmat)\n",
    "plt.colorbar(m)"
   ]
  },
  {
   "cell_type": "markdown",
   "metadata": {
    "collapsed": true
   },
   "source": [
    "## GPML FITC / VFE\n",
    "### Octave"
   ]
  },
  {
   "cell_type": "code",
   "execution_count": 53,
   "metadata": {
    "ExecuteTime": {
     "end_time": "2017-06-12T16:17:58.143273",
     "start_time": "2017-06-12T16:17:57.872896"
    }
   },
   "outputs": [
    {
     "name": "stdout",
     "output_type": "stream",
     "text": [
      " 7.9118\n"
     ]
    }
   ],
   "source": [
    "n = 10\n",
    "x = np.linspace(0,1,n)[:,None]\n",
    "l = 0.2\n",
    "Kmat = theano.function([], pm.gp.cov.ExpQuad(1, l)(x))()\n",
    "y = np.random.multivariate_normal(np.zeros(n), Kmat + 1e-8*np.eye(n), 1).flatten()\n",
    "\n",
    "n, D = x.shape\n",
    "m = np.zeros(n)\n",
    "W = np.ones(n) / sn2\n",
    "\n",
    "s = 0.5 # s = 0.0 for VFE, s = 1.0 for FITC\n",
    "xu = np.linspace(0,1,5)[:,None]\n",
    "nu = np.shape(xu)[0]\n",
    "\n",
    "Kuu = theano.function([], pm.gp.cov.ExpQuad(1, l)(xu))()\n",
    "Ku  = theano.function([], pm.gp.cov.ExpQuad(1, l)(xu, x))()\n",
    "diagK = np.diag(Kmat)\n",
    "\n",
    "\n",
    "octave.push(\"Kmat\", Kmat)\n",
    "octave.push(\"Kuu\",  Kuu)\n",
    "octave.push(\"Ku\",   Ku)\n",
    "octave.push(\"diagK\", diagK)\n",
    "octave.push(\"y\", y)\n",
    "octave.push(\"x\", x)\n",
    "octave.push(\"l\", l)\n",
    "octave.push(\"sn2\", sn2)\n",
    "octave.push(\"xu\", xu)\n",
    "octave.push(\"s\", s)\n",
    "\n",
    "octave.eval(r\"\"\"\n",
    "\n",
    "function x = solve_chol(A, B)\n",
    "  if nargin ~= 2 | nargout > 1\n",
    "    error('Wrong number of arguments.');\n",
    "  end\n",
    "\n",
    "  if size(A,1) ~= size(A,2) | size(A,1) ~= size(B,1)\n",
    "    error('Wrong sizes of matrix arguments.');\n",
    "  end\n",
    "\n",
    "  x = A\\(A'\\B);\n",
    "end\n",
    "\n",
    "function [ldB2,solveKiW,dW,dldB2,L]=ldB2_sparse(W,V,g,Luu,dKuu,dKu,ddiagK,s,xud)\n",
    "  z = s*g.*W; t = 1/s*log(z+1); i = z<1e-4;  % s=0: t = g*W, s=1: t = log(g*W+1)\n",
    "  t(i) = g(i) .* W(i) .* (1 - z(i)/2 + z(i).^2/3);         % 2nd order Taylor for tiny z\n",
    "  dt = 1./(z+1); d = W.*dt;                               % evaluate derivatives\n",
    "  nu = size(Luu,1); Vd = bsxfun(@times,V,d');\n",
    "  Lu = chol(eye(nu) + V*Vd'); LuV = Lu'\\V;               % Lu'*Lu=I+V*diag(d)*V'\n",
    "  ldB2 = sum(log(diag(Lu))) + sum(t)/2;    % s=1 => t=log(g.*W+1), s=0 => t=g.*W\n",
    "  md = @(r) bsxfun(@times,d,r); solveKiW = @(r) md(r) - md(LuV'*(LuV*md(r)));\n",
    "  if nargout>2                % dW = d log(det(B))/2 / d W = diag(inv(inv(K)+W))\n",
    "    dW = sum(LuV.*((LuV*Vd')*V),1)' + s*g.*d.*sum(LuV.*LuV,1)';\n",
    "    dW = dt.*(g+sum(V.*V,1)'-dW)/2;                % add trace \"correction\" term\n",
    "    dldB2 = @(varargin) ldB2_deriv_sparse(V,Luu,d,LuV,dKuu,dKu,ddiagK,s,xud,...\n",
    "                                                                   varargin{:});\n",
    "    if nargout>4\n",
    "      L = solve_chol(Lu*Luu,eye(nu))-solve_chol(Luu,eye(nu));   % Sigma-inv(Kuu)\n",
    "    end\n",
    "  end\n",
    "end\n",
    "\n",
    "\n",
    "\n",
    "\n",
    "y = y';\n",
    "[n, D] = size(x);\n",
    "W = ones(n, 1)/sn2;\n",
    "m = zeros(n, D);\n",
    "nu = size(xu, 1);\n",
    "diagK = diagK';\n",
    "\n",
    "snu2 = 1e-6*(trace(Kuu)/nu);                 % stabilise by 0.1% of signal std\n",
    "Luu  = chol(Kuu+snu2*eye(nu));                       % Kuu + snu2*I = Luu'*Luu\n",
    "V  = Luu'\\Ku;                                   % V = inv(Luu')*Ku => V'*V = Q\n",
    "g = max(diagK-sum(V.*V,1)',0);                         % g = diag(K) - diag(Q)\n",
    "\n",
    "K.mvm = @(x) V'*(V*x) + bsxfun(@times, s*g, x); % efficient matrix-vector mult\n",
    "K.P   = @(x) Luu\\(V*x);                                       % projection ops\n",
    "K.Pt  = @(x) V'*(Luu'\\x);                                     % projection ops\n",
    "K.fun = @(W) ldB2_sparse(W, V, g, Luu, 1,1,1,s, false);\n",
    "[ldB2, solveKiW] = K.fun(W);\n",
    "\n",
    "alpha = solveKiW(y-m);\n",
    "nlZ = (y-m)'*alpha/2 + ldB2 + n*log(2*pi*sn2)/2;\n",
    "\n",
    "disp(nlZ)\n",
    "\n",
    "\"\"\")"
   ]
  },
  {
   "cell_type": "markdown",
   "metadata": {},
   "source": [
    "## Python"
   ]
  },
  {
   "cell_type": "code",
   "execution_count": 54,
   "metadata": {
    "ExecuteTime": {
     "end_time": "2017-06-12T16:17:59.450813",
     "start_time": "2017-06-12T16:17:59.270493"
    }
   },
   "outputs": [
    {
     "name": "stdout",
     "output_type": "stream",
     "text": [
      "7.91178393918\n"
     ]
    }
   ],
   "source": [
    "n, D = x.shape\n",
    "m = np.zeros(n)\n",
    "W = np.ones(n) / sn2\n",
    "\n",
    "s = 0.5 # s = 0.0 for VFE, s = 1.0 for FITC\n",
    "xu = np.linspace(0,1,5)[:,None]\n",
    "nu = np.shape(xu)[0]\n",
    "\n",
    "Kuu = theano.function([], pm.gp.cov.ExpQuad(1, l)(xu))()\n",
    "Ku  = theano.function([], pm.gp.cov.ExpQuad(1, l)(xu, x))()\n",
    "diagK = np.diag(Kmat)\n",
    "\n",
    "snu2 = 1e-6 * (np.trace(Kuu)/nu)\n",
    "Luu = sp.linalg.cholesky(Kuu + snu2*np.eye(nu), lower=False)\n",
    "V = np.linalg.solve(Luu.T, Ku)\n",
    "g = np.clip(diagK - np.sum(V*V, 0), 0.0, np.inf)\n",
    "\n",
    "## ldB2_sparse\n",
    "z = s * g * W\n",
    "t = (1.0 / s) * np.log(z + 1.0)\n",
    "i = z < 1e-4\n",
    "t[i] = g[i] * W[i] * (1.0 - z[i]/2.0 + np.square(z[i])/3.0)\n",
    "dt = 1.0 / (z + 1.0)\n",
    "d = W * dt\n",
    "nu = np.shape(Luu)[0]\n",
    "Vd = V * d  # bsxfun(@times, V, d.T)\n",
    "Lu = sp.linalg.cholesky(np.eye(nu) + np.dot(V, Vd.T))\n",
    "LuV = np.linalg.solve(Lu.T, V)\n",
    "ldB2 = np.sum(np.log(np.diag(Lu))) + np.sum(t)/2.0\n",
    "\n",
    "r = y - m\n",
    "alpha = d*r - d*np.dot(LuV.T, np.dot(LuV, d*r))\n",
    "nlZ = np.dot(r, alpha/2.0) + ldB2 + n*np.log(2*np.pi*sn2)/2.0\n",
    "print(nlZ)"
   ]
  },
  {
   "cell_type": "markdown",
   "metadata": {
    "collapsed": true
   },
   "source": [
    "## FITC (with s = 1.0)"
   ]
  },
  {
   "cell_type": "code",
   "execution_count": 63,
   "metadata": {
    "ExecuteTime": {
     "end_time": "2017-06-12T16:22:54.360168",
     "start_time": "2017-06-12T16:22:54.033806"
    }
   },
   "outputs": [
    {
     "name": "stdout",
     "output_type": "stream",
     "text": [
      "7.67027145241\n"
     ]
    },
    {
     "ename": "ValueError",
     "evalue": "Input a needs to be a square matrix.",
     "output_type": "error",
     "traceback": [
      "\u001b[0;31m---------------------------------------------------------------------------\u001b[0m",
      "\u001b[0;31mValueError\u001b[0m                                Traceback (most recent call last)",
      "\u001b[0;32m<ipython-input-63-ce315c4d979e>\u001b[0m in \u001b[0;36m<module>\u001b[0;34m()\u001b[0m\n\u001b[1;32m     41\u001b[0m \u001b[0;34m\u001b[0m\u001b[0m\n\u001b[1;32m     42\u001b[0m \u001b[0mKss\u001b[0m \u001b[0;34m=\u001b[0m \u001b[0mtheano\u001b[0m\u001b[0;34m.\u001b[0m\u001b[0mfunction\u001b[0m\u001b[0;34m(\u001b[0m\u001b[0;34m[\u001b[0m\u001b[0;34m]\u001b[0m\u001b[0;34m,\u001b[0m \u001b[0mpm\u001b[0m\u001b[0;34m.\u001b[0m\u001b[0mgp\u001b[0m\u001b[0;34m.\u001b[0m\u001b[0mcov\u001b[0m\u001b[0;34m.\u001b[0m\u001b[0mExpQuad\u001b[0m\u001b[0;34m(\u001b[0m\u001b[0;36m1\u001b[0m\u001b[0;34m,\u001b[0m \u001b[0ml\u001b[0m\u001b[0;34m)\u001b[0m\u001b[0;34m(\u001b[0m\u001b[0mz\u001b[0m\u001b[0;34m,\u001b[0m \u001b[0mz\u001b[0m\u001b[0;34m)\u001b[0m\u001b[0;34m)\u001b[0m\u001b[0;34m(\u001b[0m\u001b[0;34m)\u001b[0m\u001b[0;34m\u001b[0m\u001b[0m\n\u001b[0;32m---> 43\u001b[0;31m \u001b[0mSigma\u001b[0m \u001b[0;34m=\u001b[0m \u001b[0mKss\u001b[0m \u001b[0;34m-\u001b[0m \u001b[0mnp\u001b[0m\u001b[0;34m.\u001b[0m\u001b[0mdot\u001b[0m\u001b[0;34m(\u001b[0m\u001b[0malpha\u001b[0m\u001b[0;34m,\u001b[0m \u001b[0msp\u001b[0m\u001b[0;34m.\u001b[0m\u001b[0mlinalg\u001b[0m\u001b[0;34m.\u001b[0m\u001b[0msolve\u001b[0m\u001b[0;34m(\u001b[0m\u001b[0mKsx\u001b[0m\u001b[0;34m,\u001b[0m \u001b[0my\u001b[0m\u001b[0;34m)\u001b[0m\u001b[0;34m)\u001b[0m\u001b[0;34m\u001b[0m\u001b[0m\n\u001b[0m\u001b[1;32m     44\u001b[0m \u001b[0;34m\u001b[0m\u001b[0m\n\u001b[1;32m     45\u001b[0m \u001b[0mplt\u001b[0m\u001b[0;34m.\u001b[0m\u001b[0mplot\u001b[0m\u001b[0;34m(\u001b[0m\u001b[0mx\u001b[0m\u001b[0;34m,\u001b[0m \u001b[0my\u001b[0m\u001b[0;34m,\u001b[0m \u001b[0;34m'o'\u001b[0m\u001b[0;34m)\u001b[0m\u001b[0;34m;\u001b[0m\u001b[0;34m\u001b[0m\u001b[0m\n",
      "\u001b[0;32m/home/bill/anaconda3/lib/python3.5/site-packages/scipy/linalg/basic.py\u001b[0m in \u001b[0;36msolve\u001b[0;34m(a, b, sym_pos, lower, overwrite_a, overwrite_b, debug, check_finite, assume_a, transposed)\u001b[0m\n\u001b[1;32m    127\u001b[0m \u001b[0;34m\u001b[0m\u001b[0m\n\u001b[1;32m    128\u001b[0m     \u001b[0;32mif\u001b[0m \u001b[0ma1\u001b[0m\u001b[0;34m.\u001b[0m\u001b[0mshape\u001b[0m\u001b[0;34m[\u001b[0m\u001b[0;36m0\u001b[0m\u001b[0;34m]\u001b[0m \u001b[0;34m!=\u001b[0m \u001b[0ma1\u001b[0m\u001b[0;34m.\u001b[0m\u001b[0mshape\u001b[0m\u001b[0;34m[\u001b[0m\u001b[0;36m1\u001b[0m\u001b[0;34m]\u001b[0m\u001b[0;34m:\u001b[0m\u001b[0;34m\u001b[0m\u001b[0m\n\u001b[0;32m--> 129\u001b[0;31m         \u001b[0;32mraise\u001b[0m \u001b[0mValueError\u001b[0m\u001b[0;34m(\u001b[0m\u001b[0;34m'Input a needs to be a square matrix.'\u001b[0m\u001b[0;34m)\u001b[0m\u001b[0;34m\u001b[0m\u001b[0m\n\u001b[0m\u001b[1;32m    130\u001b[0m \u001b[0;34m\u001b[0m\u001b[0m\n\u001b[1;32m    131\u001b[0m     \u001b[0;32mif\u001b[0m \u001b[0mn\u001b[0m \u001b[0;34m!=\u001b[0m \u001b[0mb1\u001b[0m\u001b[0;34m.\u001b[0m\u001b[0mshape\u001b[0m\u001b[0;34m[\u001b[0m\u001b[0;36m0\u001b[0m\u001b[0;34m]\u001b[0m\u001b[0;34m:\u001b[0m\u001b[0;34m\u001b[0m\u001b[0m\n",
      "\u001b[0;31mValueError\u001b[0m: Input a needs to be a square matrix."
     ]
    }
   ],
   "source": [
    "n, D = x.shape\n",
    "m = np.zeros(n)\n",
    "W = np.ones(n) / sn2\n",
    "\n",
    "xu = np.linspace(0,1,5)[:,None]\n",
    "nu = np.shape(xu)[0]\n",
    "\n",
    "Kuu = theano.function([], pm.gp.cov.ExpQuad(1, l)(xu))()\n",
    "Ku  = theano.function([], pm.gp.cov.ExpQuad(1, l)(xu, x))()\n",
    "diagK = np.diag(Kmat)\n",
    "\n",
    "snu2 = 1e-6 * (np.trace(Kuu)/nu)\n",
    "Luu = sp.linalg.cholesky(Kuu + snu2 * np.eye(nu), lower=True)\n",
    "# V = inv(Luu')*Ku => V'*V = Q\n",
    "V = sp.linalg.solve_triangular(Luu, Ku, lower=True) \n",
    "g = np.clip(diagK - np.sum(V*V, 0), 0.0, np.inf)\n",
    "\n",
    "## ldB2_sparse\n",
    "z = g * W\n",
    "t = np.log(z + 1.0)\n",
    "i = z < 1e-4\n",
    "t[i] = g[i] * W[i] * (1.0 - z[i]/2.0 + np.square(z[i])/3.0)\n",
    "\n",
    "dt = 1.0 / (z + 1.0)\n",
    "d = W * dt\n",
    "nu = np.shape(Luu)[0]\n",
    "Vd = V * d  # bsxfun(@times, V, d.T)\n",
    "Lu = sp.linalg.cholesky(np.eye(nu) + np.dot(V, Vd.T))\n",
    "LuV = np.linalg.solve(Lu.T, V)\n",
    "ldB2 = np.sum(np.log(np.diag(Lu))) + np.sum(t)/2.0\n",
    "\n",
    "r = y - m\n",
    "alpha = d*r - d*np.dot(LuV.T, np.dot(LuV, d*r))\n",
    "nlZ = np.dot(r, alpha/2.0) + ldB2 + n*np.log(2*np.pi*sn2)/2.0\n",
    "print(nlZ)\n",
    "\n",
    "## Predict\n",
    "z = np.linspace(-0.1, 1.1, 100)[:,None]\n",
    "Ksx = theano.function([], pm.gp.cov.ExpQuad(1, l)(z, x))()\n",
    "ymu = np.dot(Ksx, alpha)\n",
    "\n",
    "Kss = theano.function([], pm.gp.cov.ExpQuad(1, l)(z, z))()\n",
    "Sigma = Kss - np.dot(alpha, sp.linalg.solve(Ksx, y))\n",
    "\n",
    "plt.plot(x, y, 'o');\n",
    "plt.plot(z, ymu);"
   ]
  },
  {
   "cell_type": "markdown",
   "metadata": {
    "collapsed": true
   },
   "source": [
    "## Chol solve, upper vs lower\n",
    "\n",
    "upper is used in GPML, lower used in PyMC3\n",
    "\n",
    "also shown is solve triangular\n",
    "\n",
    "computes \n",
    "\n",
    "$$\n",
    "x = K^{-1}b\n",
    "$$"
   ]
  },
  {
   "cell_type": "code",
   "execution_count": 27,
   "metadata": {
    "ExecuteTime": {
     "end_time": "2017-06-12T15:15:27.923859",
     "start_time": "2017-06-12T15:15:27.904437"
    }
   },
   "outputs": [
    {
     "name": "stdout",
     "output_type": "stream",
     "text": [
      "upper [-24.44722801  53.52702245  16.69296591  10.30985056  35.17834781]\n",
      "lower [-24.44722801  53.52702245  16.69296591  10.30985056  35.17834781]\n",
      "upper [-24.44722801  53.52702245  16.69296591  10.30985056  35.17834781]\n",
      "lower [-24.44722801  53.52702245  16.69296591  10.30985056  35.17834781]\n"
     ]
    }
   ],
   "source": [
    "A = np.random.randn(5,5)\n",
    "K = np.dot(A, A.T) + 1e-7 * np.eye(5)\n",
    "b = np.random.randn(5)\n",
    "\n",
    "Lu = sp.linalg.cholesky(K, lower=False)\n",
    "Ll = sp.linalg.cholesky(K, lower=True)\n",
    "\n",
    "#x = A\\(A'\\B);\n",
    "print(\"upper\", sp.linalg.solve(Lu, sp.linalg.solve(Lu.T, b)))\n",
    "print(\"lower\", sp.linalg.solve(Ll.T, sp.linalg.solve(Ll, b)))\n",
    "print(\"upper\", sp.linalg.solve_triangular(Lu, sp.linalg.solve_triangular(Lu.T, b, lower=True), lower=False))\n",
    "print(\"lower\", sp.linalg.solve_triangular(Ll.T, sp.linalg.solve_triangular(Ll, b, lower=True), lower=False))"
   ]
  },
  {
   "cell_type": "code",
   "execution_count": null,
   "metadata": {
    "collapsed": true
   },
   "outputs": [],
   "source": []
  }
 ],
 "metadata": {
  "anaconda-cloud": {},
  "kernelspec": {
   "display_name": "Python [default]",
   "language": "python",
   "name": "python3"
  },
  "language_info": {
   "codemirror_mode": {
    "name": "ipython",
    "version": 3
   },
   "file_extension": ".py",
   "mimetype": "text/x-python",
   "name": "python",
   "nbconvert_exporter": "python",
   "pygments_lexer": "ipython3",
   "version": "3.5.2"
  }
 },
 "nbformat": 4,
 "nbformat_minor": 1
}
